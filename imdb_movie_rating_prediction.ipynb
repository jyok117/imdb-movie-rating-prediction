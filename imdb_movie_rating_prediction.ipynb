{
  "nbformat": 4,
  "nbformat_minor": 0,
  "metadata": {
    "colab": {
      "provenance": []
    },
    "kernelspec": {
      "name": "python3",
      "display_name": "Python 3"
    },
    "language_info": {
      "name": "python"
    }
  },
  "cells": [
    {
      "cell_type": "code",
      "execution_count": null,
      "metadata": {
        "id": "RwkVHw9WP0_E"
      },
      "outputs": [],
      "source": [
        "import os\n",
        "import requests"
      ]
    },
    {
      "cell_type": "code",
      "source": [
        "# !pip install beautifulsoup4"
      ],
      "metadata": {
        "id": "3RUcvxOvQb3s"
      },
      "execution_count": null,
      "outputs": []
    },
    {
      "cell_type": "code",
      "source": [
        "from bs4 import BeautifulSoup"
      ],
      "metadata": {
        "id": "EwmW7e_DQTVj"
      },
      "execution_count": null,
      "outputs": []
    },
    {
      "cell_type": "code",
      "source": [
        "url = \"https://datasets.imdbws.com\"\n",
        "folder = \"data\""
      ],
      "metadata": {
        "id": "VfahcYy1Qd_P"
      },
      "execution_count": null,
      "outputs": []
    },
    {
      "cell_type": "code",
      "source": [
        "# Make the data directory if it doesn't exist\n",
        "if not os.path.isdir(folder):\n",
        "    os.mkdir(folder)\n",
        "\n",
        "# Send request\n",
        "response = requests.get(url)\n",
        "response.raise_for_status()  # Raise exception if invalid response\n",
        "\n",
        "# Parse HTML\n",
        "soup = BeautifulSoup(response.text, 'html.parser')\n",
        "\n",
        "# Find and download all datasets\n",
        "for link in soup.find_all('a'):\n",
        "    href = link.get('href')\n",
        "    if href.endswith('.tsv.gz'):\n",
        "        print(f\"Downloading {href} ...\")\n",
        "\n",
        "        # Send request\n",
        "        r = requests.get(href, stream=True)\n",
        "        r.raise_for_status()  # Raise exception if invalid response\n",
        "\n",
        "        # Download to file\n",
        "        with open(os.path.join(folder, os.path.basename(href)), 'wb') as f:\n",
        "            for chunk in r.iter_content(chunk_size=8192):\n",
        "                f.write(chunk)\n",
        "\n",
        "print(\"Download completed!\")"
      ],
      "metadata": {
        "colab": {
          "base_uri": "https://localhost:8080/"
        },
        "id": "gyF2N9SAQlXg",
        "outputId": "9cfdd80c-bd00-4b2a-e5f4-a14fa3a5a929"
      },
      "execution_count": null,
      "outputs": [
        {
          "output_type": "stream",
          "name": "stdout",
          "text": [
            "Downloading https://datasets.imdbws.com/name.basics.tsv.gz ...\n",
            "Downloading https://datasets.imdbws.com/title.akas.tsv.gz ...\n",
            "Downloading https://datasets.imdbws.com/title.basics.tsv.gz ...\n",
            "Downloading https://datasets.imdbws.com/title.crew.tsv.gz ...\n",
            "Downloading https://datasets.imdbws.com/title.episode.tsv.gz ...\n",
            "Downloading https://datasets.imdbws.com/title.principals.tsv.gz ...\n",
            "Downloading https://datasets.imdbws.com/title.ratings.tsv.gz ...\n",
            "Download completed!\n"
          ]
        }
      ]
    },
    {
      "cell_type": "code",
      "source": [],
      "metadata": {
        "id": "kLu1yGhAQ0ZL"
      },
      "execution_count": null,
      "outputs": []
    }
  ]
}